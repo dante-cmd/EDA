{
 "cells": [
  {
   "cell_type": "markdown",
   "metadata": {},
   "source": [
    "# Exploratory Data Anaysis\n",
    "\n",
    "Before we begin with the *EDA* we need to read the *metadata*. \n",
    "\n",
    "If there is not or it is incomplete (as is our current case) we will create or add after the *EDA*.\n",
    "\n",
    "We need highlight that the analysis the data we will be have an economics approach, but it can apply any approach.\n",
    "\n",
    "In order to track the transformations that we apply to our data, each time we apply these transformation we will save all files and will do commit (*snapshoot*) using git. This useful by reasons of *reproducibility* \n"
   ]
  },
  {
   "cell_type": "code",
   "execution_count": 2,
   "metadata": {},
   "outputs": [],
   "source": [
    "import pandas as pd\n",
    "import matplotlib.pyplot as plt\n",
    "import numpy as np"
   ]
  },
  {
   "cell_type": "markdown",
   "metadata": {},
   "source": [
    "Data Source:\n",
    "\n",
    "* [Principles of Econometrics - Data](http://www.principlesofeconometrics.com)\n",
    "\n",
    "* [Wooldridge - Metadata](http://fmwww.bc.edu/ec-p/data/wooldridge/mroz.des)\n",
    "\n",
    "  * It is a cross-sectional women's labor force participation data with 753 observations on 25 variables.\n",
    "  * A short description of the meaning of the variables is above (metadata). But it is not enought.     \n",
    "    e.g. $\\text{lfp} = 1 \\; \\text{if the women belong labor force}, 0 \\;\\text{otherwise}$. This is our *target*, the variable we want to explain."
   ]
  },
  {
   "cell_type": "code",
   "execution_count": 3,
   "metadata": {},
   "outputs": [],
   "source": [
    "mroz = pd.read_csv('http://www.principlesofeconometrics.com/poe5/data/csv/mroz.csv')"
   ]
  },
  {
   "cell_type": "code",
   "execution_count": 4,
   "metadata": {},
   "outputs": [
    {
     "name": "stdout",
     "output_type": "stream",
     "text": [
      "(Records, Features): (753, 25)\n",
      "Null:  0\n"
     ]
    }
   ],
   "source": [
    "print(\"(Records, Features):\", mroz.shape)\n",
    "print(\"Null: \", np.sum(np.sum(mroz.isnull())))"
   ]
  },
  {
   "cell_type": "markdown",
   "metadata": {},
   "source": [
    "* We can see the structure of the data is *Homogeneous* (*structured*), that is, all of records have the same schema. And also the data is *tabular*, since the schema is simple. The later can be tested showing the *data type*. If it includes list type or array type this means the schema is complex."
   ]
  },
  {
   "cell_type": "code",
   "execution_count": 5,
   "metadata": {},
   "outputs": [
    {
     "name": "stdout",
     "output_type": "stream",
     "text": [
      "Data types uniques:  [dtype('int64') dtype('float64')]\n"
     ]
    }
   ],
   "source": [
    "print('Data types uniques: ', mroz.dtypes.unique())"
   ]
  },
  {
   "cell_type": "markdown",
   "metadata": {},
   "source": [
    "* Also we can see the data is cleanned (*there is not nulls*) so, we don't need to the stage of the *Cleasing Data*.\n",
    "\n",
    "* This data can be taken as a *sample* or as the *population*. But almost always in a company, the data is the *population of customers*. So, the data will be considered as *population*. This *assumption* must point out in the metadata."
   ]
  },
  {
   "cell_type": "markdown",
   "metadata": {},
   "source": [
    "### Univariate and Multivariate\n",
    "\n",
    "* Tools in order to analyze are $^{[1]}$:\n",
    "  * Histogram or variations (like counts) to analyze the `categorical values` .\n",
    "  \n",
    "  *  For `numerical values`, we want to find the measures of central tendency (mean,\n",
    "median, mode, and a few more) and dispersion (standard deviation, quartiles)."
   ]
  },
  {
   "cell_type": "markdown",
   "metadata": {},
   "source": [
    "We begin the analysis with feature `experience` "
   ]
  },
  {
   "cell_type": "code",
   "execution_count": 141,
   "metadata": {},
   "outputs": [],
   "source": [
    "def plot_serie(s:pd.Series, bins = 30, title :str =  None):\n",
    "    _, ax = plt.subplots()\n",
    "    n_bins = int(np.log2(len(s)) + 1) if bins == 'sturges' else bins\n",
    "    ax = s.plot(kind = 'hist', bins = n_bins, figsize = (10, 6), density  =True, ax = ax, alpha = 0.6)\n",
    "    quantile = dict(s.quantile([0, 0.25, 0.5, 0.75, 1]))\n",
    "    bbox_props = dict(boxstyle=\"round\", fc=\"w\", ec=\"0.5\", alpha=0.9)\n",
    "    \n",
    "    for q in quantile:\n",
    "        ax.text(quantile[q], 0, '|', color = (1,1,1, 0.7))\n",
    "        ax.text(\n",
    "            quantile[q], \n",
    "            np.multiply(np.ptp(ax.get_yticks()),0.05), \n",
    "            fr'$q$({(int(q*100))})', \n",
    "            color = (0,0,0, 1), ha = 'center', bbox=bbox_props)\n",
    "\n",
    "    ax.set_title(title)\n",
    "    return ax"
   ]
  },
  {
   "cell_type": "code",
   "execution_count": 142,
   "metadata": {},
   "outputs": [
    {
     "data": {
      "image/png": "[encoded data removed]",
      "text/plain": [
       "<Figure size 720x432 with 1 Axes>"
      ]
     },
     "metadata": {
      "needs_background": "light"
     },
     "output_type": "display_data"
    }
   ],
   "source": [
    "mroz_int64 = mroz.select_dtypes(include='int64').copy(deep= True)\n",
    "plot_serie(mroz_int64.exper, bins='sturges', title='Histogran of the Experience'); plt.show()"
   ]
  },
  {
   "cell_type": "markdown",
   "metadata": {},
   "source": [
    "* As we can see, the $75\\%$ of the surveyed people (*woman*) have not reached the 15 years of experience in *labor force*.\n",
    "\n",
    "* This rate increases at $87.9\\%$ if the surveyed people (*woman*) don't belong to *labor force*. and reduce at $68\\%$ if the *woman* don't."
   ]
  },
  {
   "cell_type": "code",
   "execution_count": 8,
   "metadata": {},
   "outputs": [
    {
     "name": "stdout",
     "output_type": "stream",
     "text": [
      "-> Contingence table \n",
      "-> Marginalize at `lft`:\n",
      "-> exper_q0.5  (0.0, 9.0]  (9.0, 45.0]\n",
      "lfp                                \n",
      "0             0.649485     0.350515\n",
      "1             0.375887     0.624113\n"
     ]
    }
   ],
   "source": [
    "def marginal_lfp(data, feat, q= 0.5):\n",
    "    # get min, q_75, max\n",
    "    data = data.copy(deep = True)\n",
    "    feat_q = data[feat].quantile([0, q, 1])\n",
    "    # create a new feature\n",
    "    data[f'{feat}_q{q}'] = pd.cut(data[feat], bins=feat_q)\n",
    "    # Table frequence\n",
    "    cross = pd.crosstab(data['lfp'], data[f'{feat}_q{q}'])\n",
    "    # Contingence table -> Marginalize at `lft`\n",
    "    print('-> Contingence table \\n-> Marginalize at `lft`:\\n->',cross.divide(cross.sum(axis=1), axis='index'))\n",
    "\n",
    "marginal_lfp(mroz_int64, 'exper', q= 0.5)"
   ]
  },
  {
   "cell_type": "markdown",
   "metadata": {},
   "source": [
    "Maybe the education of the father can be influded in women belong to *labor force*"
   ]
  },
  {
   "cell_type": "code",
   "execution_count": 9,
   "metadata": {},
   "outputs": [
    {
     "name": "stdout",
     "output_type": "stream",
     "text": [
      "-> Contingence table \n",
      "-> Marginalize at `lft`:\n",
      "-> fathereduc_q0.5  (0.0, 7.0]  (7.0, 17.0]\n",
      "lfp                                     \n",
      "0                  0.561905     0.438095\n",
      "1                  0.553191     0.446809\n"
     ]
    }
   ],
   "source": [
    "marginal_lfp(mroz_int64, 'fathereduc', q= 0.5)"
   ]
  },
  {
   "cell_type": "markdown",
   "metadata": {},
   "source": [
    "* We don't see any difference in the education of the women's father if she belong to or not to *labor force*\n",
    "\n",
    "* It is important to point out right away that aggregate functions `skip nulls`."
   ]
  },
  {
   "cell_type": "markdown",
   "metadata": {},
   "source": [
    "#### Kids\n",
    "\n",
    "**Metadata**:\n",
    "\n",
    "* *kidslt6*: \n",
    "  * Answer to the question: *How many kids less that 6 year do you have?*\n",
    "  * Data Type: Integer\n",
    "  * Data classification: Categorical\n",
    "  * Range: 0 - 3, where 0 point out the women doesn't have kids and 3 point out the women have 3 kids.\n",
    "  \n",
    "* *kids618*: \n",
    "  * Answer to the question: *How many kids greater than 6 but less 18 year do you have?*\n",
    "  * Data Type: Integer\n",
    "  * Data classification: Categorical\n",
    "  * Range: 0 - 8, where 0 point out the women doesn't have kids and 8 point out the women have 8 kids.\n",
    "  "
   ]
  },
  {
   "cell_type": "markdown",
   "metadata": {},
   "source": [
    "* We can see a women that belong to force labor has in average 0.22 less *kids (of age less than 6)* than a women that don't belong to force labor.\n",
    "\n",
    "* If a women has *kids (of age between 6 and 18 years)* seems is not relevant for the explanation of if a women belongs to force labor or not"
   ]
  },
  {
   "cell_type": "code",
   "execution_count": 10,
   "metadata": {},
   "outputs": [
    {
     "data": {
      "image/png": "[encoded data removed]",
      "text/plain": [
       "<Figure size 432x288 with 1 Axes>"
      ]
     },
     "metadata": {
      "needs_background": "light"
     },
     "output_type": "display_data"
    }
   ],
   "source": [
    "def plot_prob(feat:str):\n",
    "\n",
    "    _, ax = plt.subplots()\n",
    "    cross = mroz.groupby([feat])['lfp'].agg(['mean', lambda x :np.std(x)/np.sqrt(len(x))])\n",
    "    cross.columns = ['MEAN', 'SE']\n",
    "    color = (0.3, 0.0, 0.9)\n",
    "    ax.errorbar(range(len(cross)), cross['MEAN'], 1.96*cross['SE'], color = color, fmt='-o')\n",
    "    ax.set_xticks(range(len(cross))); ax.set_xticklabels(labels = cross.index)\n",
    "    ax.set(xlabel = feat, ylabel  = rf'$P(lfp = 1 \\;|\\;{feat})$')\n",
    "\n",
    "    mroz_feat = mroz[feat].value_counts(normalize=True)\n",
    "    mroz_feat.plot(kind = 'bar', color = (0, 0, 0, 0.2), ax = ax)\n",
    "    \n",
    "    return ax\n",
    "\n",
    "plot_prob(feat = 'kidsl6');plt.show()"
   ]
  },
  {
   "cell_type": "markdown",
   "metadata": {},
   "source": [
    "* We can see the probability a women belong to force labor decreases as the women had more kids (of the age less 6 years). If a women has 3 kids (of the age less 6 years) the probability belong to force labor is almost zero.\n",
    "\n",
    "* The standar error plotted above increase as the women had more kids, but this is the effect of the size by each group (0, 1, 2, 3)."
   ]
  },
  {
   "cell_type": "code",
   "execution_count": 11,
   "metadata": {},
   "outputs": [
    {
     "data": {
      "image/png": "[encoded data removed]",
      "text/plain": [
       "<Figure size 432x288 with 1 Axes>"
      ]
     },
     "metadata": {
      "needs_background": "light"
     },
     "output_type": "display_data"
    }
   ],
   "source": [
    "mroz['kids618cut'] = pd.cut(mroz['kids618'], bins = 4)\n",
    "plot_prob(feat = 'kids618cut');plt.show()"
   ]
  },
  {
   "cell_type": "markdown",
   "metadata": {},
   "source": [
    "* We can see the probability of a women belong to force labor don't change as the amount of kids increases.\n",
    "\n",
    "* As above, the standar error plotted increase as the women had more kids, but this is the effect of the size of teh caterories 6, 7 and 8.\n",
    "\n"
   ]
  },
  {
   "cell_type": "markdown",
   "metadata": {},
   "source": [
    "#### Age\n",
    "\n",
    "**Metadata**\n",
    "\n",
    "* Age:\n",
    "\n",
    "  * Answer to the question: *How old are you?*\n",
    "  * Data Type: Integer\n",
    "  * Data classification: Categorical\n",
    "  * Range: 33 - 60\n",
    "  * Syntatic domain: years "
   ]
  },
  {
   "cell_type": "code",
   "execution_count": 12,
   "metadata": {},
   "outputs": [
    {
     "data": {
      "image/png": "[encoded data removed]",
      "text/plain": [
       "<Figure size 432x288 with 1 Axes>"
      ]
     },
     "metadata": {
      "needs_background": "light"
     },
     "output_type": "display_data"
    }
   ],
   "source": [
    "mroz['agecut'] = pd.cut(mroz.age, bins = 4)\n",
    "plot_prob(feat = 'agecut');plt.show()"
   ]
  },
  {
   "cell_type": "markdown",
   "metadata": {},
   "source": [
    "* As we hope, the probability of a women belong to force labor decrease as she is older. But if we compare this decresing with the effect of the kidsl6, the effect age on the probability of a women belong to force labor is less."
   ]
  },
  {
   "cell_type": "markdown",
   "metadata": {},
   "source": [
    "#### Education\n",
    "\n",
    "**Metadata**\n",
    "\n",
    "* Education:\n",
    "  * Data Type: Integer\n",
    "  * Data classification: Categorical\n",
    "  * Range: 4 - 17\n",
    "  * Syntatic domain: years \n"
   ]
  },
  {
   "cell_type": "code",
   "execution_count": 13,
   "metadata": {},
   "outputs": [
    {
     "data": {
      "image/png": "[encoded data removed]",
      "text/plain": [
       "<Figure size 432x288 with 1 Axes>"
      ]
     },
     "metadata": {
      "needs_background": "light"
     },
     "output_type": "display_data"
    }
   ],
   "source": [
    "mroz['educcut'] = pd.cut(mroz.educ, bins = 5)\n",
    "plot_prob(feat = 'educcut');plt.show()"
   ]
  },
  {
   "cell_type": "markdown",
   "metadata": {},
   "source": [
    "#### Join Effects\n",
    "\n",
    "* *Age* and *Kids*\n",
    "  \n",
    "  The following analysis join the effects both Age and the Kids. "
   ]
  },
  {
   "cell_type": "code",
   "execution_count": 14,
   "metadata": {},
   "outputs": [
    {
     "data": {
      "text/plain": [
       "Text(0.5, 0.98, \"Women's Force Labor Supply Rate\\n by Range of Educ Years\")"
      ]
     },
     "execution_count": 14,
     "metadata": {},
     "output_type": "execute_result"
    },
    {
     "data": {
      "image/png": "[encoded data removed]",
      "text/plain": [
       "<Figure size 360x576 with 5 Axes>"
      ]
     },
     "metadata": {
      "needs_background": "light"
     },
     "output_type": "display_data"
    }
   ],
   "source": [
    "mroz_rates = mroz.pivot_table(index='kidsl6', columns='educcut', values='lfp')\n",
    "\n",
    "fig, ax = plt.subplots(5, sharex=\"all\", figsize = (5, 8))\n",
    "\n",
    "_educcut = mroz_rates.columns\n",
    "for (i, _educ) in enumerate(_educcut):\n",
    "    _rr_vals = mroz_rates[_educ].values\n",
    "\n",
    "    ax[i].bar(range(0, 4), _rr_vals, color=\"#c60000\")\n",
    "    ax[i].bar(range(0, 4), 1 - _rr_vals, bottom=_rr_vals, color=\"#353535\")\n",
    "    ax[i].set_ylabel(f'Range Year Educ \\n{_educ}')\n",
    "    for spine in ['left', 'right', 'top', 'bottom']:\n",
    "        ax[i].spines[spine].set_visible(False)\n",
    "    ax[i].yaxis.tick_right()\n",
    "    ax[i].xaxis.set_ticks_position(\"none\")\n",
    "\n",
    "fig.suptitle(\"Women's Force Labor Supply Rate\\n by Range of Educ Years\")"
   ]
  },
  {
   "cell_type": "markdown",
   "metadata": {},
   "source": [
    "* The plot showed above highlights what we already know, but this provides us a bit more information. For instance, the rate of the women's force labor supply increases if we join the two effects (*Kids* and *Educ*) than we would be analyzing the effects by separeted. \n",
    "  \n",
    "  * *Join*: $0.76$ (*Educ* is in $(14.6, 17.0]$ and *Kid* is equal $0$) \n",
    "  * *Educ*: $0.7$ (*Educ* is in $(14.6, 17.0]$)\n",
    "  * *Kids*: $0.6$ (*Kid* is equal $0$)"
   ]
  },
  {
   "cell_type": "markdown",
   "metadata": {},
   "source": [
    "## Family and Husband\n",
    "\n",
    "The effect of the women in the force labor supply on both *Family Income* and *Husband Wage*\n",
    "\n",
    "**Metadata**\n",
    "* Family Income\n",
    "  * Data Type: Float\n",
    "  * Syntatic domain: Dollar U.S.  \n",
    "  * Semantic: Annual"
   ]
  },
  {
   "cell_type": "code",
   "execution_count": 15,
   "metadata": {},
   "outputs": [],
   "source": [
    "from scipy.stats import skew, kurtosis\n",
    "\n",
    "def summary_stats(data:pd.DataFrame, feat:str):\n",
    "    data_feat = data[feat].copy(deep=True)\n",
    "    stats_feat = [\n",
    "        skew(data_feat), kurtosis(data_feat), np.std(data_feat), \n",
    "        np.mean(data_feat), np.median(data_feat), np.median(data_feat)]\n",
    "        \n",
    "    stats_name = ['Skew', 'Kurtosis', 'Std', 'Mean', 'Median']\n",
    "    for stat_feat, stat_name in zip(stats_feat, stats_name):\n",
    "        print('->',stat_name.ljust(8), round(stat_feat, 2))"
   ]
  },
  {
   "cell_type": "code",
   "execution_count": 143,
   "metadata": {},
   "outputs": [
    {
     "data": {
      "image/png": "[encoded data removed]",
      "text/plain": [
       "<Figure size 720x432 with 1 Axes>"
      ]
     },
     "metadata": {
      "needs_background": "light"
     },
     "output_type": "display_data"
    },
    {
     "name": "stdout",
     "output_type": "stream",
     "text": [
      "-> Skew     1.9\n",
      "-> Kurtosis 6.48\n",
      "-> Std      12182.1\n",
      "-> Mean     23080.59\n",
      "-> Median   20880.0\n"
     ]
    }
   ],
   "source": [
    "plot_serie(mroz['faminc']);plt.show()\n",
    "summary_stats(mroz, 'faminc')"
   ]
  },
  {
   "cell_type": "markdown",
   "metadata": {},
   "source": [
    "* The stadar deviation compute the average deviation between the values and its mean that in this case is $\\$12,190$\n",
    "\n",
    "* The *standard deviation*  are affected by *outliers*, so sometimes the `MAD` (*Median Absolute Deviation*) is calculated too.\n",
    "\n",
    "$$\\text{MAD}(x_i) = \\text{median}(|x_i − \\text{median}_i(x_i)|)$$"
   ]
  },
  {
   "cell_type": "code",
   "execution_count": 17,
   "metadata": {},
   "outputs": [
    {
     "name": "stdout",
     "output_type": "stream",
     "text": [
      "-> MAD: 6124.0\n"
     ]
    }
   ],
   "source": [
    "def mad(data, feat):\n",
    "    mad = np.median(np.abs(data[feat] - np.median(data[feat])))\n",
    "    print('-> MAD:', mad)\n",
    "    return \n",
    "\n",
    "mad(mroz, 'faminc')"
   ]
  },
  {
   "cell_type": "markdown",
   "metadata": {},
   "source": [
    "But the good of the variance is we can descompose in within and between, like that."
   ]
  },
  {
   "cell_type": "code",
   "execution_count": 127,
   "metadata": {},
   "outputs": [
    {
     "name": "stdout",
     "output_type": "stream",
     "text": [
      "-> Between Variance: 70.76%\n",
      "-> Within Variance: 28.82%\n"
     ]
    }
   ],
   "source": [
    "def within_between(data:pd.DataFrame, feat:str, q:list = [0, .25, 0.5, .75, 1]):\n",
    "    \n",
    "    def average(x):\n",
    "        return sum(x)/len(x)\n",
    "\n",
    "    def variance(x):\n",
    "        return average((x - average(x))**2)\n",
    "\n",
    "    data = data.copy(deep=True)\n",
    "    quantiles = data[feat].quantile(q)\n",
    "    data[f'{feat}_q'] = pd.cut(data[feat], bins = quantiles)\n",
    "\n",
    "    stats = data.groupby(f'{feat}_q')[feat].agg([variance, average, 'size'])\n",
    "\n",
    "    n = len(data[feat])\n",
    "    µ = average(stats['average'])\n",
    "\n",
    "    between = (1/n)*(np.sum(stats['size'] * (stats['average'] - µ)**2))\n",
    "    within = (1/n)*(np.sum(stats['size'] * stats['variance']))\n",
    "\n",
    "    total = variance(data[feat])\n",
    "    print('-> Between Variance: {:.2%}'.format(between/total))\n",
    "    print('-> Within Variance: {:.2%}'.format(within/total))\n",
    "\n",
    "within_between(mroz,'faminc') #, q=[0, 0.5, 1])"
   ]
  },
  {
   "cell_type": "markdown",
   "metadata": {},
   "source": [
    "* The total variance is explained in $70\\%$ by the variance between the groups, this is an evidence of the inequality in the *family income* in general.\n",
    "\n",
    "* On the order hand, we can show the effects of whether the women belong to *labor force*\n",
    "\n",
    "* we can can see this effects is not enought. An example is if the a women don't belong to *labor force* the probabiliby of the *family income* is in range $[\\$15,000, \\$20,880]$ reaches $55\\%$ (increasing only $5\\%$)."
   ]
  },
  {
   "cell_type": "code",
   "execution_count": 30,
   "metadata": {},
   "outputs": [
    {
     "data": {
      "text/html": [
       "<div>\n",
       "<style scoped>\n",
       "    .dataframe tbody tr th:only-of-type {\n",
       "        vertical-align: middle;\n",
       "    }\n",
       "\n",
       "    .dataframe tbody tr th {\n",
       "        vertical-align: top;\n",
       "    }\n",
       "\n",
       "    .dataframe thead th {\n",
       "        text-align: right;\n",
       "    }\n",
       "</style>\n",
       "<table border=\"1\" class=\"dataframe\">\n",
       "  <thead>\n",
       "    <tr style=\"text-align: right;\">\n",
       "      <th>faminc_q</th>\n",
       "      <th>(1500.0, 20880.0]</th>\n",
       "      <th>(20880.0, 96000.0]</th>\n",
       "    </tr>\n",
       "    <tr>\n",
       "      <th>lfp</th>\n",
       "      <th></th>\n",
       "      <th></th>\n",
       "    </tr>\n",
       "  </thead>\n",
       "  <tbody>\n",
       "    <tr>\n",
       "      <th>0</th>\n",
       "      <td>0.558642</td>\n",
       "      <td>0.441358</td>\n",
       "    </tr>\n",
       "    <tr>\n",
       "      <th>1</th>\n",
       "      <td>0.455607</td>\n",
       "      <td>0.544393</td>\n",
       "    </tr>\n",
       "  </tbody>\n",
       "</table>\n",
       "</div>"
      ],
      "text/plain": [
       "faminc_q  (1500.0, 20880.0]  (20880.0, 96000.0]\n",
       "lfp                                            \n",
       "0                  0.558642            0.441358\n",
       "1                  0.455607            0.544393"
      ]
     },
     "execution_count": 30,
     "metadata": {},
     "output_type": "execute_result"
    }
   ],
   "source": [
    "def quantiles(data:pd.DataFrame, feat:str, q:list = [0, .25, 0.5, .75, 1]):\n",
    "\n",
    "    data = data.copy(deep=True)\n",
    "    quantiles = data[feat].quantile(q)\n",
    "    data[f'{feat}_q'] = pd.cut(data[feat], bins = quantiles)\n",
    "    cross = pd.crosstab(data['lfp'],data[f'{feat}_q'])\n",
    "\n",
    "    return cross.div(cross.sum(axis=1), axis='index')\n",
    "\n",
    "quantiles(mroz,'faminc', q=[0, 0.5, 1])"
   ]
  },
  {
   "cell_type": "code",
   "execution_count": 168,
   "metadata": {},
   "outputs": [
    {
     "data": {
      "text/html": [
       "<div>\n",
       "<style scoped>\n",
       "    .dataframe tbody tr th:only-of-type {\n",
       "        vertical-align: middle;\n",
       "    }\n",
       "\n",
       "    .dataframe tbody tr th {\n",
       "        vertical-align: top;\n",
       "    }\n",
       "\n",
       "    .dataframe thead th {\n",
       "        text-align: right;\n",
       "    }\n",
       "</style>\n",
       "<table border=\"1\" class=\"dataframe\">\n",
       "  <thead>\n",
       "    <tr style=\"text-align: right;\">\n",
       "      <th>faminc_q</th>\n",
       "      <th>(1500.0, 15428.0]</th>\n",
       "      <th>(15428.0, 20880.0]</th>\n",
       "      <th>(20880.0, 28200.0]</th>\n",
       "      <th>(28200.0, 96000.0]</th>\n",
       "    </tr>\n",
       "    <tr>\n",
       "      <th>lfp</th>\n",
       "      <th></th>\n",
       "      <th></th>\n",
       "      <th></th>\n",
       "      <th></th>\n",
       "    </tr>\n",
       "  </thead>\n",
       "  <tbody>\n",
       "    <tr>\n",
       "      <th>0</th>\n",
       "      <td>0.314815</td>\n",
       "      <td>0.243827</td>\n",
       "      <td>0.234568</td>\n",
       "      <td>0.20679</td>\n",
       "    </tr>\n",
       "    <tr>\n",
       "      <th>1</th>\n",
       "      <td>0.200935</td>\n",
       "      <td>0.254673</td>\n",
       "      <td>0.261682</td>\n",
       "      <td>0.28271</td>\n",
       "    </tr>\n",
       "  </tbody>\n",
       "</table>\n",
       "</div>"
      ],
      "text/plain": [
       "faminc_q  (1500.0, 15428.0]  (15428.0, 20880.0]  (20880.0, 28200.0]  \\\n",
       "lfp                                                                   \n",
       "0                  0.314815            0.243827            0.234568   \n",
       "1                  0.200935            0.254673            0.261682   \n",
       "\n",
       "faminc_q  (28200.0, 96000.0]  \n",
       "lfp                           \n",
       "0                    0.20679  \n",
       "1                    0.28271  "
      ]
     },
     "execution_count": 168,
     "metadata": {},
     "output_type": "execute_result"
    }
   ],
   "source": [
    "quantiles(mroz,'faminc')"
   ]
  },
  {
   "cell_type": "markdown",
   "metadata": {},
   "source": [
    "* As we can see the effects of the participation of women in the labor market on family income is positive for the families with low incomes.(increase $6\\%$)\n",
    "\n",
    "* Due to the fact that the quantiles 0, 0.25, 0.5 and 0.75 have increased simultaneously we can infer the mean has increased as well. This mean a family can increses its income if the women can supply her the workforce."
   ]
  },
  {
   "cell_type": "markdown",
   "metadata": {},
   "source": [
    "### Surprise\n",
    "\n",
    "* The surprise is the inverse of the probability, and the entropy is the expectation of the suprise.\n",
    "\n",
    "$$\\text{Entropy} = - \\sum p(x) \\text{log}_2(p(x))$$"
   ]
  },
  {
   "cell_type": "code",
   "execution_count": 176,
   "metadata": {},
   "outputs": [
    {
     "name": "stdout",
     "output_type": "stream",
     "text": [
      "Entropy given lfp = 0  1.9822681177936774\n",
      "Entropy given lfp = 1  1.989137399284925\n"
     ]
    }
   ],
   "source": [
    "def entropy(x):\n",
    "    return -np.sum(x*np.log2(x))\n",
    "\n",
    "prob = quantiles(mroz,'faminc', q=[0, 0.25, 0.5, 0.75 ,1])\n",
    "\n",
    "print('Entropy given lfp = 0 ',entropy(prob.values[0,:]))\n",
    "print('Entropy given lfp = 1 ',entropy(prob.values[1,:]))"
   ]
  },
  {
   "cell_type": "markdown",
   "metadata": {},
   "source": [
    "The results show that the entropy condicioned on $\\text{lfp} = 0$ is the same that if we condicione on $\\text{lfp} = 1$, thats mean they have the same variance."
   ]
  },
  {
   "cell_type": "markdown",
   "metadata": {},
   "source": [
    "## Bootsraping Analysis\n",
    "\n",
    "*P-values* using Bootstraping\n",
    "\n",
    "* Assuming that the mean $μ_1$ is the average of the family income if the wife doesn't supply in labor market and assuming that the mean $μ_0$ is the average of the family income if the wife does supply in labor market.\n",
    "\n",
    "* So we have $Δ = μ_1 − μ_0$.\n",
    "\n",
    "* We consider the one-sided hypotheses given by\n",
    "\n",
    "$$H_0 : Δ = 0 \\; \\text{versus} \\; H_1 : Δ > 0$$\n",
    "\n",
    "* That is, our null hypothesis means there is not difference between the family incomes if the wife supply in labor market.\n",
    "\n",
    "* Recall we only have a sample, this is used for bootstraping"
   ]
  },
  {
   "cell_type": "code",
   "execution_count": 296,
   "metadata": {},
   "outputs": [
    {
     "data": {
      "image/png": "[encoded data removed]",
      "text/plain": [
       "<Figure size 720x432 with 1 Axes>"
      ]
     },
     "metadata": {
      "needs_background": "light"
     },
     "output_type": "display_data"
    },
    {
     "name": "stdout",
     "output_type": "stream",
     "text": [
      " > P-value:15.53%\n"
     ]
    }
   ],
   "source": [
    "# Δ = μ_1 − μ_0\n",
    "# H0: Δ = 0, Ha: Δ > 0\n",
    "\n",
    "def anaysis_boots(feat, B, data):\n",
    "    cross = dict(data.groupby('lfp')[feat].mean())\n",
    "    Δ = cross[1] - cross[0]\n",
    "\n",
    "    data_grouped = data.groupby('lfp')\n",
    "\n",
    "    def boots_sample():\n",
    "        boots_means = {}\n",
    "        for g, group_data in data_grouped:\n",
    "            z = (group_data[feat] - Δ) if g == 1 else (group_data[feat])\n",
    "            sample = np.random.choice(z, size= len(group_data[feat]), replace=True)\n",
    "            boots_means[g] = np.mean(sample)\n",
    "        return boots_means[1] - boots_means[0]\n",
    "\n",
    "    boots_diff = np.array([boots_sample() for _ in range(B)])\n",
    "\n",
    "    _, ax = plt.subplots(figsize = (10, 6))\n",
    "\n",
    "    ax.hist(boots_diff, bins=30, density=False, alpha = 0.5)\n",
    "    ax.set(xlabel = r'$\\bar{Δ}*$', ylabel = '$Frequence$', title = f'Histogram of the {B} bootstrap '+r'$\\bar{Δ}^*$')\n",
    "    \n",
    "    plt.show()\n",
    "    p_value = sum(boots_diff>=Δ)/len(boots_diff)\n",
    "    return ax, p_value, Δ\n",
    "\n",
    "# Features\n",
    "feat = 'faminc'\n",
    "# Sampling by Bootstraping\n",
    "B = 6000\n",
    "# Take a sample\n",
    "mroz_sample = mroz.groupby('lfp', group_keys=False).apply(lambda x:x.sample(100)) # random_state=123\n",
    "data = mroz_sample.copy()\n",
    "\n",
    "ax, p_value, Δ = anaysis_boots(feat, B, data);plt.show()\n",
    "print(f' > P-value:{p_value:.2%}')"
   ]
  },
  {
   "cell_type": "markdown",
   "metadata": {},
   "source": [
    "* The result of this experiment point out there is difference between the family incomes whether the wife supply in labor market or not.\n",
    "\n",
    "* p-value indiques if we don't reject the null hypothesis, the probability of commit the error *type I* is $12.00\\%$\n",
    "\n",
    "* So, we can say the effect of the women on family income is enought to reject the $H_0$."
   ]
  },
  {
   "cell_type": "markdown",
   "metadata": {},
   "source": [
    "## What if we took other sample?\n",
    "\n",
    "* The purpose of this apart is computing the mean of the p-values in order to see the behaviour of the p-values by several samples of the population and test the robutness if the p-value."
   ]
  },
  {
   "cell_type": "code",
   "execution_count": 286,
   "metadata": {},
   "outputs": [],
   "source": [
    "def anaysis_boots(feat, B, data):\n",
    "    cross = dict(data.groupby('lfp')[feat].mean())\n",
    "    Δ = cross[1] - cross[0]\n",
    "\n",
    "    data_grouped = data.groupby('lfp')\n",
    "\n",
    "    def boots_sample(): \n",
    "        boots_means = {}\n",
    "        for g, group_data in data_grouped:\n",
    "            z = (group_data[feat] - Δ) if g == 1 else (group_data[feat])\n",
    "            sample = np.random.choice(z, size= len(group_data[feat]), replace=True)\n",
    "            boots_means[g] = np.mean(sample)\n",
    "\n",
    "        return boots_means[1] - boots_means[0]\n",
    "\n",
    "    boots_diff = np.array([boots_sample() for _ in range(B)])\n",
    "    p_value = sum(boots_diff>=Δ)/len(boots_diff)\n",
    "    \n",
    "    return p_value"
   ]
  },
  {
   "cell_type": "code",
   "execution_count": 287,
   "metadata": {},
   "outputs": [],
   "source": [
    "feat = 'faminc'\n",
    "B = 6000\n",
    "\n",
    "def p_value_sampling():\n",
    "    mroz_sample = mroz.groupby('lfp', group_keys=False).apply(lambda x:x.sample(100))\n",
    "    data = mroz_sample.copy()\n",
    "    p_value = anaysis_boots(feat, B, data)\n",
    "    return p_value"
   ]
  },
  {
   "cell_type": "code",
   "execution_count": 288,
   "metadata": {},
   "outputs": [],
   "source": [
    "p_values = (p_value_sampling() for _ in range(20))"
   ]
  },
  {
   "cell_type": "code",
   "execution_count": 289,
   "metadata": {},
   "outputs": [
    {
     "data": {
      "text/plain": [
       "0.12847499999999998"
      ]
     },
     "execution_count": 289,
     "metadata": {},
     "output_type": "execute_result"
    }
   ],
   "source": [
    "sum(p_values)/20"
   ]
  },
  {
   "cell_type": "markdown",
   "metadata": {},
   "source": [
    "* The mean computed point out the robutness we hoped. \n",
    "\n",
    "* The mean of the p-values is closed at p-value computed by only sample."
   ]
  },
  {
   "cell_type": "code",
   "execution_count": 284,
   "metadata": {},
   "outputs": [
    {
     "data": {
      "image/png": "[encoded data removed]",
      "text/plain": [
       "<Figure size 720x432 with 1 Axes>"
      ]
     },
     "metadata": {
      "needs_background": "light"
     },
     "output_type": "display_data"
    }
   ],
   "source": [
    "mroz['faminc_quantile'] = pd.cut(mroz.faminc, mroz.faminc.quantile([0, 0.25, 0.5, .75, 1]), include_lowest=True)\n",
    "\n",
    "for _, group_by_quantile in mroz.groupby('faminc_quantile'):\n",
    "    for _, group_by_lfp in group_by_quantile.groupby('lfp'):\n",
    "        group_by_lfp.faminc.plot(kind = 'hist', alpha = 0.4, bins = 10, figsize = (10, 6))"
   ]
  },
  {
   "cell_type": "markdown",
   "metadata": {},
   "source": [
    "## References\n",
    "\n",
    "* Robert Hogg, Joseph McKean, Allen Craig - Introduction to Mathematical Statistics - Pages 311- 312.\n",
    "\n",
    "* Chase Coleman, Spencer Lyon, and Jesse Perla - [QuanEcon](https://datascience.quantecon.org/applications/recidivism.html)\n",
    "\n",
    "* Antonio Badia - SQL for Data Science. Data-Centric Systems and Applications.Springer Cham. Louisville, KY, USA. .July 2020 - Pages 165 - 166.\n",
    "\n",
    "* $[1]$ Antonio Badia - SQL for Data Science. Data-Centric Systems and Applications.Springer Cham. Louisville, KY, USA. .July 2020 - Page 106.\n"
   ]
  }
 ],
 "metadata": {
  "kernelspec": {
   "display_name": "Python 3.9.7 ('base')",
   "language": "python",
   "name": "python3"
  },
  "language_info": {
   "codemirror_mode": {
    "name": "ipython",
    "version": 3
   },
   "file_extension": ".py",
   "mimetype": "text/x-python",
   "name": "python",
   "nbconvert_exporter": "python",
   "pygments_lexer": "ipython3",
   "version": "3.9.7"
  },
  "orig_nbformat": 4,
  "vscode": {
   "interpreter": {
    "hash": "7679c2132d3f6ce38c9df14d554b39c06862b36a4e6689c81f9ae15bd0911d7d"
   }
  }
 },
 "nbformat": 4,
 "nbformat_minor": 2
}
