{
 "cells": [
  {
   "cell_type": "markdown",
   "metadata": {},
   "source": [
    "# Exploratory Data Anaysis\n",
    "\n",
    "Before we begin with the *EDA* we need to read the *metadata*. If there is not (as is our current case) we will create after the *EDA*.\n",
    "\n",
    "We need highlight that the analysis the data we will be have an economics approach, but it can apply any approach.\n",
    "\n",
    "In order to track the transformations that we apply to our data, each time we apply these transformation we will save all files and will do commit (*snapshoot*) using git. This useful by reasons of *reproducibility* \n"
   ]
  },
  {
   "cell_type": "code",
   "execution_count": 2,
   "metadata": {},
   "outputs": [],
   "source": [
    "import pandas as pd\n",
    "import matplotlib.pyplot as plt\n",
    "import numpy as np\n",
    "import seaborn as sns"
   ]
  },
  {
   "cell_type": "markdown",
   "metadata": {},
   "source": [
    "Data Source:\n",
    "\n",
    "* [Principles of Econometrics](http://www.principlesofeconometrics.com)"
   ]
  },
  {
   "cell_type": "code",
   "execution_count": 5,
   "metadata": {},
   "outputs": [],
   "source": [
    "mroz = pd.read_csv('http://www.principlesofeconometrics.com/poe5/data/csv/mroz.csv')"
   ]
  },
  {
   "cell_type": "markdown",
   "metadata": {},
   "source": [
    "This data can be taken as a *sample* or as the *population*. But almost always in a company, the data is the *population of customers*. So, the data will be considered as *population*. This *assumption* must point out in the metadata."
   ]
  },
  {
   "cell_type": "code",
   "execution_count": 9,
   "metadata": {},
   "outputs": [],
   "source": [
    "mroz_sample = mroz.sample(100)"
   ]
  }
 ],
 "metadata": {
  "kernelspec": {
   "display_name": "Python 3.9.7 ('base')",
   "language": "python",
   "name": "python3"
  },
  "language_info": {
   "codemirror_mode": {
    "name": "ipython",
    "version": 3
   },
   "file_extension": ".py",
   "mimetype": "text/x-python",
   "name": "python",
   "nbconvert_exporter": "python",
   "pygments_lexer": "ipython3",
   "version": "3.9.7"
  },
  "orig_nbformat": 4,
  "vscode": {
   "interpreter": {
    "hash": "7679c2132d3f6ce38c9df14d554b39c06862b36a4e6689c81f9ae15bd0911d7d"
   }
  }
 },
 "nbformat": 4,
 "nbformat_minor": 2
}
